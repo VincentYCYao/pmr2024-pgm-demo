{
 "cells": [
  {
   "cell_type": "markdown",
   "id": "1cfe93d5-9eff-429f-a581-f05cd1e3c04f",
   "metadata": {},
   "source": [
    "If you are running this notebook on Google Colab, the following cell will install the required dependencies and download pre-computed weights from the github repo."
   ]
  },
  {
   "cell_type": "code",
   "execution_count": null,
   "id": "9670903a-ae2c-47d5-8d7a-69b430aa7236",
   "metadata": {},
   "outputs": [],
   "source": [
    "try:\n",
    "  import google.colab\n",
    "  IN_COLAB = True\n",
    "\n",
    "  # Install pgmpy and daft\n",
    "  !pip install pgmpy==0.1.24 daft==0.1.2\n",
    "  \n",
    "  # Download pre-computed weights\n",
    "  !wget https://raw.githubusercontent.com/vsimkus/pmr2024-pgm-demo/main/heckermans-car-fully-connected-BayesNet.bif\n",
    "  !wget https://raw.githubusercontent.com/vsimkus/pmr2024-pgm-demo/main/heckermans-car-extended-BayesNet.bif\n",
    "  !wget https://github.com/vsimkus/pmr2024-pgm-demo/raw/main/heckermans-car-joint-probability-table.npy\n",
    "except:\n",
    "  IN_COLAB = False"
   ]
  },
  {
   "cell_type": "code",
   "execution_count": null,
   "id": "6955ca23-ce2e-4440-885d-415c3affbeea",
   "metadata": {},
   "outputs": [],
   "source": [
    "import itertools\n",
    "import warnings\n",
    "\n",
    "import matplotlib.pyplot as plt\n",
    "import numpy as np\n",
    "import networkx as nx\n",
    "from IPython.display import Image, display\n",
    "\n",
    "from pgmpy.models import BayesianNetwork\n",
    "from pgmpy.factors.discrete import TabularCPD, JointProbabilityDistribution\n",
    "from pgmpy.inference import VariableElimination"
   ]
  },
  {
   "cell_type": "markdown",
   "id": "9e786550-1097-49b0-9381-8ebb4ad2b69c",
   "metadata": {},
   "source": [
    "## Table of contents\n",
    "\n",
    "* Model (Heckerman's car start model)\n",
    "    * Joint probability table (JPT)\n",
    "    * Bayesian network (BN) by chain rule\n",
    "    * Bayesian network (BN) with conditional independencies\n",
    "        * Exercise: define the BN\n",
    "        * Exercise: define the conditional probability tables (CPTs)\n",
    "* Probabilistic inference on the BN model\n",
    "    * Exercise: debug the car's failure to start using the BN\n",
    "    * Exercise: verify \"explaining away\" phenomenon\n",
    "* Extended car model\n",
    "    * Inference on the extended model\n",
    "        * Exercise: debug the car's failure to start using the extended BN\n",
    "* (Optional) Convert the original BN to a Markov Network\n"
   ]
  },
  {
   "cell_type": "markdown",
   "id": "50bfe581-1d25-40ea-bc2a-42c42160852b",
   "metadata": {},
   "source": [
    "## Helpers"
   ]
  },
  {
   "cell_type": "markdown",
   "id": "0eaf928f-e392-48ac-a073-36108d4d8221",
   "metadata": {},
   "source": [
    "In this exercise, we will use [pgmpy](https://github.com/pgmpy/pgmpy) Python library, which implements simple [probabilistic graphical models](https://en.wikipedia.org/wiki/Graphical_model) such as Bayesian and Markov networks, learning algorithms, and exact inference methods. We will use it to model a probabilistic system and perform inference tasks on the model.\n",
    "\n",
    "Before we do so, we define some helper functions that you may use later."
   ]
  },
  {
   "cell_type": "code",
   "execution_count": null,
   "id": "832c6209-9e40-43ac-b07f-9e6731121446",
   "metadata": {},
   "outputs": [],
   "source": [
    "def get_num_necessary_parameters(model):\n",
    "    \"\"\"\n",
    "    Computes the number of _necessary_ parameters in a model.\n",
    "    \n",
    "    pgmpy uses one parameter to represent each of the K states, \n",
    "    but due to normalisation we only require using K-1\n",
    "    So let's only count the number of necessary parameters.\n",
    "    \"\"\"\n",
    "    if isinstance(model, BayesianNetwork):\n",
    "        # Get all conditional probability tables (CPT) in the model\n",
    "        cpts = model.get_cpds()\n",
    "        cpts_params = []\n",
    "        for cpt in cpts:\n",
    "            # Get params in each of the CPT\n",
    "            cpt_params = get_num_necessary_parameters(cpt)\n",
    "            cpts_params.append(cpt_params)\n",
    "        # Sum over all CPTs\n",
    "        return sum(cpts_params)\n",
    "    elif isinstance(model, TabularCPD):\n",
    "        # Get number of parameters in the CPT\n",
    "        cpt_params = model.get_values().size\n",
    "        # Get the cardinality (number of possible states in the CPT)\n",
    "        K = model.cardinality[0]\n",
    "        # Recompute the number of necessary parameters\n",
    "        return int(cpt_params * (1-1/K))\n",
    "    elif isinstance(model, JointProbabilityDistribution):\n",
    "        return model.values.size-1\n",
    "    else:\n",
    "        raise NotImplementedError(f'Not implemented for {model =}.')\n",
    "\n",
    "def plot_graph(model):\n",
    "    \"\"\"\n",
    "    Converts the graphical model to PyDot format, and then plots it.\n",
    "    \"\"\"\n",
    "    with warnings.catch_warnings():\n",
    "        # Ignore some deprecation warnings\n",
    "        warnings.simplefilter(\"ignore\")\n",
    "\n",
    "        # Convert the NX graph to PyDot\n",
    "        pdot = nx.drawing.nx_pydot.to_pydot(model)\n",
    "        # Create a figure\n",
    "        pdot_plot = Image(pdot.create_png())\n",
    "        # Display the figure\n",
    "        display(pdot_plot)"
   ]
  },
  {
   "cell_type": "markdown",
   "id": "ac8c2660-604f-4518-8dc7-f56692dbaddf",
   "metadata": {},
   "source": [
    "## Model"
   ]
  },
  {
   "cell_type": "markdown",
   "id": "a99f767f-d581-4d70-9085-08833835b415",
   "metadata": {},
   "source": [
    "In this notebook we illustrate probabilistic graphical modelling (PGM) and inference on a car start Bayesian network [(Heckerman, 1995)](http://tomlr.free.fr/Math%E9matiques/Fichiers%20Claude/Auteurs/AAprov070125/Heckerman%20-%20A%20Tutorial%20On%20Learning%20Bayesian%20Networks.pdf):\n",
    "\n",
    "![](./figures/heckerman-car-model.png)"
   ]
  },
  {
   "cell_type": "markdown",
   "id": "f1f41f43-eb66-4c3f-bf90-dc848e64469f",
   "metadata": {},
   "source": [
    "This is a simplified model for troubleshooting a car that won't start, where each node represents a variable and directed edges relate causes and effects. For simplicity, we will also assume that each variable is discrete and binary."
   ]
  },
  {
   "cell_type": "markdown",
   "id": "57a647f8-50a8-44be-a2b8-a1a04d26fe4a",
   "metadata": {},
   "source": [
    "In the car start model above we have five variables \"Battery\", \"Fuel\", \"Gauge\", \"Turn Over\", and \"Start\". And, each variable has a corresponding (binary) state-space of two possible values (e.g. \"good/bad\", \"empty/not empty\", and \"yes/no\"). So, let us define them below:"
   ]
  },
  {
   "cell_type": "code",
   "execution_count": null,
   "id": "53bf02a0-b958-49b8-837d-676b0831c668",
   "metadata": {},
   "outputs": [],
   "source": [
    "# NOTE: avoid using spaces in variable/state names as some features in pgmpy may not work.\n",
    "variable_states = {\n",
    "    \"Battery\":      [\"Bad\",     \"Good\"],\n",
    "    \"Fuel\":         [\"Empty\",   \"Not_empty\"],\n",
    "    \"Gauge\":        [\"Empty\",   \"Not_empty\"],\n",
    "    \"TurnOver\":     [\"No\",      \"Yes\"],\n",
    "    \"Start\":        [\"No\",      \"Yes\"],\n",
    "}\n",
    "variables = list(variable_states.keys())\n",
    "cardinalities = [len(s) for v, s in variable_states.items()]"
   ]
  },
  {
   "cell_type": "markdown",
   "id": "3882dfef-95ba-4b9d-9978-5b84584211cb",
   "metadata": {},
   "source": [
    "### Joint probability table (JPT)"
   ]
  },
  {
   "cell_type": "markdown",
   "id": "6af30eca-a9b5-477d-9f0c-e21fdb1bafc0",
   "metadata": {},
   "source": [
    "One way to model the probability distribution of the car example is using a joint probability table (JPT), which represents the probability for any _joint_ state of the variables."
   ]
  },
  {
   "cell_type": "code",
   "execution_count": null,
   "id": "1b5a8fbe-bd4e-420d-bfb3-270f125146e6",
   "metadata": {},
   "outputs": [],
   "source": [
    "# Load pre-computed table values\n",
    "jpt_probabilities = np.load('./heckermans-car-joint-probability-table.npy')\n",
    "\n",
    "# Create the probability table\n",
    "jpt = JointProbabilityDistribution(variables, cardinalities, jpt_probabilities)\n",
    "jpt.store_state_names(variables, cardinalities, variable_states)\n",
    "\n",
    "print(jpt)"
   ]
  },
  {
   "cell_type": "markdown",
   "id": "50bf194c-99cf-43ac-8143-34d9e08d99eb",
   "metadata": {},
   "source": [
    "The number of parameters needed to represent the distribution with a JPT is $K^D-1$, where $D$ is the number of variables and $K$ is the cardinality of each variable.\n",
    "\n",
    "In our car example $D=5$ and $K=2$, hence the total number of parameters is:"
   ]
  },
  {
   "cell_type": "code",
   "execution_count": null,
   "id": "c8743c34-40fe-4d13-ba53-8292e5ee9f86",
   "metadata": {},
   "outputs": [],
   "source": [
    "get_num_necessary_parameters(jpt)"
   ]
  },
  {
   "cell_type": "markdown",
   "id": "05d57e61-833b-43e1-8d3a-09cd605cd00a",
   "metadata": {},
   "source": [
    "Using a single JPT to represent distributions is generally inefficient. While our car example only requires a small number of parameters, in general the number of parameters required increases exponentially in the number of variables $D$:"
   ]
  },
  {
   "cell_type": "code",
   "execution_count": null,
   "id": "7ab481cd-13eb-4648-ac7c-350b59568426",
   "metadata": {},
   "outputs": [],
   "source": [
    "fig, ax = plt.subplots(1, 1, figsize=(7,3))\n",
    "\n",
    "d = np.arange(1, 16)\n",
    "k = 2\n",
    "ax.plot(d, k**d -1, label='$K^D-1$')\n",
    "ax.grid(); ax.legend()\n",
    "ax.set_ylabel('# parameters')\n",
    "ax.set_xlabel('# variables')"
   ]
  },
  {
   "cell_type": "markdown",
   "id": "d1bb2976-aea1-4677-8b4b-4d5095d77062",
   "metadata": {},
   "source": [
    "Even with just $D=15$ binary variables the number of parameters would be $>32000$!"
   ]
  },
  {
   "cell_type": "markdown",
   "id": "f73e7f32-d11b-4807-b01a-f36586ab2ce8",
   "metadata": {},
   "source": [
    "### Baysian network by applying chain rule"
   ]
  },
  {
   "cell_type": "markdown",
   "id": "102724e5-de07-45fa-b274-f84c7a19d38b",
   "metadata": {},
   "source": [
    "Instead of using a single JPT we can apply the chain rule to factorise the joint distribution into conditional factors:\n",
    "$$p(b, f, g, s, t) = p(b) p(f\\mid b) p(g \\mid b, f) p(s \\mid b, f, g) p(t \\mid b, f, g, s).$$\n",
    "\n",
    "This distribution can then be represented with a fully-connected Bayesian network (BN):"
   ]
  },
  {
   "cell_type": "code",
   "execution_count": null,
   "id": "678855e5-65bd-4700-bb69-349164172f92",
   "metadata": {},
   "outputs": [],
   "source": [
    "# Create fully-connected DAG edges\n",
    "edges = [(v1, v2) for j, v1 in enumerate(variables) for v2 in variables[j+1:]]\n",
    "\n",
    "# Create model and load pre-computed weights\n",
    "car_model_full = BayesianNetwork(edges).load('./heckermans-car-fully-connected-BayesNet.bif')"
   ]
  },
  {
   "cell_type": "markdown",
   "id": "faf69ec3-ec3d-409b-a12e-48108ed4d888",
   "metadata": {},
   "source": [
    "We can visualise the DAG of the BN using the helper function `plot_graph()`:"
   ]
  },
  {
   "cell_type": "code",
   "execution_count": null,
   "id": "4450acd3-b603-481f-b74c-be14ebf74b15",
   "metadata": {},
   "outputs": [],
   "source": [
    "plot_graph(car_model_full)"
   ]
  },
  {
   "cell_type": "markdown",
   "id": "7e07502c-fe31-4528-9495-720f80f76458",
   "metadata": {},
   "source": [
    "The DAG of the model is fully connected.\n",
    "\n",
    "But, instead of representing the distribution using a single JPT, it is now represented using several _conditional_ probability tables (CPTs), one for each (conditional) factor:"
   ]
  },
  {
   "cell_type": "code",
   "execution_count": null,
   "id": "fa78cf94-a96b-478d-8cba-87beb89fe025",
   "metadata": {},
   "outputs": [],
   "source": [
    "# NOTE: the printing function truncates the outputs so that it may fit to screen. The exact values here are not important. \n",
    "for cpt in car_model_full.get_cpds():\n",
    "    if len(cpt.variables) > 1:\n",
    "        print(f'p( {cpt.variable} | {cpt.variables[1:] })')\n",
    "    else:\n",
    "        print(f'p( {cpt.variable} )')\n",
    "    print(cpt)\n",
    "    print()"
   ]
  },
  {
   "cell_type": "markdown",
   "id": "d53c7427-9443-40eb-be4f-8576bc8b13f3",
   "metadata": {},
   "source": [
    "This BN represents the same probability distribution as the joint probability table (JPT) before. So let's verify this by construction the joint distribution from the BN:"
   ]
  },
  {
   "cell_type": "code",
   "execution_count": null,
   "id": "9b8155a6-d7d0-4917-b21b-e37f966cc300",
   "metadata": {},
   "outputs": [],
   "source": [
    "# Print the corresponding JPT by infering the probability of all possible variable states\n",
    "inference = VariableElimination(car_model_full)\n",
    "q = inference.query(variables=variables)\n",
    "print(q)"
   ]
  },
  {
   "cell_type": "markdown",
   "id": "4255be38-c7b0-4d3a-a39c-6b2141eb3b37",
   "metadata": {},
   "source": [
    "Indeed, the Bayesian network represents the same probability distribution as the JPT!\n",
    "\n",
    "But, as shown above, the DAG is fully connected. So, despite the different representation, the number of parameters in the BN remains the same as in the JPT before:"
   ]
  },
  {
   "cell_type": "code",
   "execution_count": null,
   "id": "79dcae99-dbdb-45fe-bc31-cfba9523f0a5",
   "metadata": {},
   "outputs": [],
   "source": [
    "get_num_necessary_parameters(car_model_full)"
   ]
  },
  {
   "cell_type": "markdown",
   "id": "f0e9abed-0ad3-4439-81cc-ad81f13465c6",
   "metadata": {},
   "source": [
    "This is because we have not used the (conditional) independencies provided in the car model! See the DAG below:\n",
    "\n",
    "![](./figures/heckerman-car-model.png)"
   ]
  },
  {
   "cell_type": "markdown",
   "id": "74e21666-4ae8-450b-81f2-6d41c7815283",
   "metadata": {},
   "source": [
    "To check the (conditional) independencies in the fully connected BN we can use `get_independencies()` method. And, as expected, it shows no independencies."
   ]
  },
  {
   "cell_type": "code",
   "execution_count": null,
   "id": "9a07186d-3b82-4d06-afce-4cc3762e992b",
   "metadata": {},
   "outputs": [],
   "source": [
    "car_model_full.get_independencies()"
   ]
  },
  {
   "cell_type": "markdown",
   "id": "534ab26a-ec31-4190-8eb6-c5046dc6b74e",
   "metadata": {},
   "source": [
    "### Bayesian network using independencies of the DAG"
   ]
  },
  {
   "cell_type": "markdown",
   "id": "b7af62a5-f9e3-4874-8e8d-f4148fdb3c32",
   "metadata": {},
   "source": [
    "Let us now represent the car model using an _efficient_ Bayesian network (BN) model that encodes the given indepencies of the car model."
   ]
  },
  {
   "cell_type": "markdown",
   "id": "72117389-c2c9-4efc-b7ab-b9e1536bfe47",
   "metadata": {},
   "source": [
    "#### [Exercise] Define the Bayesian network\n",
    "\n",
    "Using the same variable names as before, define the Bayesian network that corresponds to the DAG.\n",
    "\n",
    "For reference, the variable names are:"
   ]
  },
  {
   "cell_type": "code",
   "execution_count": null,
   "id": "ceaaa48e-fd7b-46b3-82a3-4aef7e6c1f79",
   "metadata": {},
   "outputs": [],
   "source": [
    "variables"
   ]
  },
  {
   "cell_type": "markdown",
   "id": "0098c265-4630-4f79-a52a-d1050959390e",
   "metadata": {},
   "source": [
    "**Now, fill in the code.** (The `BayesianNetwork` class takes a list of edges (start$\\rightarrow$end) as tuples (start, end).)"
   ]
  },
  {
   "cell_type": "code",
   "execution_count": null,
   "id": "319f5765-a025-4846-af31-59180744ee13",
   "metadata": {},
   "outputs": [],
   "source": [
    "car_model = BayesianNetwork(\n",
    "    [\n",
    "        #########################\n",
    "        # Exercise: define tuples of edges in the BayesNet e.g. (\"Battery\", \"TurnOver\")\n",
    "        #########################\n",
    "\n",
    "        #########################\n",
    "    ]\n",
    ")"
   ]
  },
  {
   "cell_type": "markdown",
   "id": "2ae24d9c-a816-482e-9b18-b8ca97fd0d5b",
   "metadata": {},
   "source": [
    " Let us visualise the BN using `plot_graph()`. Verify, if the defined DAG corresponds to the DAG in the Heckerman's car model."
   ]
  },
  {
   "cell_type": "code",
   "execution_count": null,
   "id": "60d2393e-777d-49be-bc2f-6decd486f180",
   "metadata": {},
   "outputs": [],
   "source": [
    "plot_graph(car_model)"
   ]
  },
  {
   "cell_type": "markdown",
   "id": "c4c18239-a511-47fd-a83c-fe126dcb3a49",
   "metadata": {},
   "source": [
    "#### [Exercise] Define the conditional probability tables (CPTs)\n",
    "\n",
    "For each factor in the Bayesian network now create the corresponding CPTs. We have provided a helper function `create_cpt()` which creates a CPT given a variable name, evidence/conditioning variable list, and the values of the CPT.\n",
    "\n",
    "The CPT values should be a 2D list (or numpy array) with the columns summing to 1. (For more information about the format see documentation in <https://pgmpy.org/factors/discrete.html>.) \n",
    "\n",
    "Use the probability values from the car model:\n",
    "\n",
    "![](./figures/heckerman-car-model.png)"
   ]
  },
  {
   "cell_type": "markdown",
   "id": "9c9dc556-58cd-46e6-9eb9-c77b47a0d3fa",
   "metadata": {},
   "source": [
    "**Now fill in the below code.**"
   ]
  },
  {
   "cell_type": "code",
   "execution_count": null,
   "id": "61b31244-d910-411b-8f17-98e471b7d828",
   "metadata": {},
   "outputs": [],
   "source": [
    "def create_cpt(var, evidence, cpt_values, *, variable_states=variable_states):\n",
    "    \"\"\"\n",
    "    Creates a CPT given a variable name, evidence list, and the CPT value array.\n",
    "    # NOTE: feel free to change this if needed\n",
    "\n",
    "    Returns a TabularCPD object, whose arguments are:\n",
    "    variable_card:              defines the cardinality of the variable\n",
    "    values:                     correspond to the (conditional) probabilities and columns must sum to 1\n",
    "    evidence:                   defines the variables in the conditioning set\n",
    "    evidence_card:              denotes the cardinality of the variables in the conditioning set\n",
    "    \"\"\"\n",
    "    return TabularCPD(\n",
    "        variable=var, \n",
    "        # Use variable cardinality from variable_states variable\n",
    "        variable_card=len(variable_states[var]), \n",
    "        values=cpt_values,\n",
    "        evidence=evidence,\n",
    "        # Use evidence variable cardinality from variable_states variable\n",
    "        evidence_card=[len(variable_states[e]) for e in evidence] if evidence is not None else None,\n",
    "        state_names=variable_states,\n",
    "    )\n",
    "\n",
    "#########################\n",
    "# Exercise: define 5 CPTs: pt_battery, pt_fuel, cpt_gauge, cpt_turnover, cpt_start\n",
    "#########################\n",
    "pt_battery = None\n",
    "\n",
    "pt_fuel = None\n",
    "\n",
    "cpt_gauge = None \n",
    "\n",
    "cpt_turnover = None\n",
    "\n",
    "cpt_start = None\n",
    "#########################"
   ]
  },
  {
   "cell_type": "markdown",
   "id": "01303b43-64b3-40b5-8be1-fdb9bcdd3deb",
   "metadata": {},
   "source": [
    "We are now going to associate the created CPTs with the Bayesian network, and check the validity of the model."
   ]
  },
  {
   "cell_type": "code",
   "execution_count": null,
   "id": "1ff51011-cabd-420b-bc27-88aa7abbe2b8",
   "metadata": {},
   "outputs": [],
   "source": [
    "# Associate the parameters with the BN.\n",
    "car_model.add_cpds(pt_battery, pt_fuel, cpt_gauge, cpt_turnover, cpt_start)\n",
    "\n",
    "# Checking if the cpts are valid for the model.\n",
    "car_model.check_model()"
   ]
  },
  {
   "cell_type": "markdown",
   "id": "0e5a4704-357d-45dd-a621-d6c2a2e22916",
   "metadata": {},
   "source": [
    "If the model is valid (i.e. probabilities sum to 1), then the above will print `True`."
   ]
  },
  {
   "cell_type": "markdown",
   "id": "8bdabb70-a0b0-46e4-9490-77f102dac0cf",
   "metadata": {},
   "source": [
    "So, let us now check if the probability distribution represented by our Bayesian model is the same as the JPT at the beginning of the notebook:"
   ]
  },
  {
   "cell_type": "code",
   "execution_count": null,
   "id": "dc851933-b0b8-4d3b-a826-d8e22be89b17",
   "metadata": {},
   "outputs": [],
   "source": [
    "inference = VariableElimination(car_model)\n",
    "q = inference.query(variables=variables)\n",
    "print(q)"
   ]
  },
  {
   "cell_type": "markdown",
   "id": "b238a9cb-39f8-4449-bc56-da615e28d997",
   "metadata": {},
   "source": [
    "If the model and the CPTs are defined correctly, then the joint probability distribution above will be the same as before.\n",
    "\n",
    "We can also compare them by running the following cell that will print `True` if they match."
   ]
  },
  {
   "cell_type": "code",
   "execution_count": null,
   "id": "4b00913e-c469-47be-bc39-449f841e2b48",
   "metadata": {},
   "outputs": [],
   "source": [
    "# Compute the JPT from the fully-connected BN\n",
    "inference = VariableElimination(car_model_full)\n",
    "q_full = inference.query(variables=variables)\n",
    "\n",
    "# Compute the JPT from the efficient BN\n",
    "inference = VariableElimination(car_model)\n",
    "q = inference.query(variables=variables)\n",
    "\n",
    "# Compare the JPT values\n",
    "np.allclose(q.values, q_full.values)"
   ]
  },
  {
   "cell_type": "markdown",
   "id": "4785a43a-347a-4065-8ec6-91ae59f2299c",
   "metadata": {},
   "source": [
    "Let us now check how many parameters are necessary to represent our model:"
   ]
  },
  {
   "cell_type": "code",
   "execution_count": null,
   "id": "bd05dc0c-cde9-462a-b78b-dac04d861846",
   "metadata": {},
   "outputs": [],
   "source": [
    "get_num_necessary_parameters(car_model)"
   ]
  },
  {
   "cell_type": "markdown",
   "id": "a5adc621-fea7-46ca-875e-2bd1d4bdfc56",
   "metadata": {},
   "source": [
    "If the model correctly represents the DAG, then the total number of parameters should be 12, just like in the given car model figure!\n",
    "\n",
    "While 12 is not \"much\" less than 31, if the number of variables in our model were larger, then this could potentially save a lot of memory. \n",
    "\n",
    "Like in our car example, let us assume that each variable has at most two parents. Then, each CPT needs at most $K^2(K-1)$ parameters, and hence in total we need at most $D\\cdot K^2(K-1)$ parameters. To illustrate the number of parameters saved we visualise it below:"
   ]
  },
  {
   "cell_type": "code",
   "execution_count": null,
   "id": "f6fa1ea6-b948-4ec4-ba97-8a175d48fbe3",
   "metadata": {},
   "outputs": [],
   "source": [
    "fig, ax = plt.subplots(1, 1, figsize=(7,3))\n",
    "\n",
    "d = np.arange(1, 16)\n",
    "k = 2\n",
    "ax.plot(d, k**d -1, label='$K^D-1$')\n",
    "ax.plot(d, k**2*(k-1)*d, label='$D \\cdot K^2(K-1)$')\n",
    "\n",
    "ax.grid(); ax.legend()\n",
    "ax.set_ylabel('# parameters')\n",
    "ax.set_xlabel('# variables')"
   ]
  },
  {
   "cell_type": "markdown",
   "id": "e24a1eb2-ef62-4f24-962f-168a40b15556",
   "metadata": {},
   "source": [
    "Clearly, using the (conditional) independence assumptions allows us to define substantially more memory and computationally efficient models, which is crucial for scaling to systems with many variables."
   ]
  },
  {
   "cell_type": "markdown",
   "id": "d78b3ccf-369d-4018-8eaf-f7393bd9b958",
   "metadata": {},
   "source": [
    "This is possible because our model now encodes (and uses) the independencies of the DAG:"
   ]
  },
  {
   "cell_type": "code",
   "execution_count": null,
   "id": "8af1cf8b-bcfd-4cb3-a55b-444dcb88c9e3",
   "metadata": {},
   "outputs": [],
   "source": [
    "car_model.get_independencies()"
   ]
  },
  {
   "cell_type": "markdown",
   "id": "862bc60a-c825-461e-b705-37c82d0a02f6",
   "metadata": {},
   "source": [
    "## Inference"
   ]
  },
  {
   "cell_type": "markdown",
   "id": "b7280de1-a2b2-40ff-9ab1-9a4dd2cb44cc",
   "metadata": {},
   "source": [
    "Having defined an efficient BN model `car_model` of our car example, we can now perform inference tasks (or ask queries).\n",
    "\n",
    "To perform probabilistic queries we will use [variable elimination](https://en.wikipedia.org/wiki/Variable_elimination). This is implemented as [`VariableElimination`](https://pgmpy.org/exact_infer/ve.html) class in pgmpy.\n",
    "\n",
    "First, let us check how likely is our car going to start at any time, which corresponds to querying the marginal probability of the `Start` variable. To do so, we must marginalise the remaining variables to obtain $p(s)$."
   ]
  },
  {
   "cell_type": "code",
   "execution_count": null,
   "id": "aa96efeb-7b84-4c15-9ada-35251d4d010d",
   "metadata": {},
   "outputs": [],
   "source": [
    "inference = VariableElimination(car_model)\n",
    "\n",
    "q = inference.query(variables=[\"Start\"], evidence=None)\n",
    "print(q)"
   ]
  },
  {
   "cell_type": "markdown",
   "id": "d7df40c2-4925-444d-95be-7a1b3ca539c6",
   "metadata": {},
   "source": [
    "Where $\\text{phi}(\\text{Start}) = p(\\text{Start} \\mid \\text{evidence})$ in the table above. (Note that in this case the evidence is empty, but in the following cases we will ask you to perform queries with non-empty evidence)."
   ]
  },
  {
   "cell_type": "markdown",
   "id": "2ae13cd7-3734-479f-b55d-b5528e919e46",
   "metadata": {},
   "source": [
    "It turns out our car is not very great since it won't start over 10% of the time!"
   ]
  },
  {
   "cell_type": "markdown",
   "id": "a5a01ce9-7919-436e-9c52-ff6b8cf69ad3",
   "metadata": {},
   "source": [
    "### [Exercise] Debug the car's failure to start using the BN"
   ]
  },
  {
   "cell_type": "markdown",
   "id": "39a76115-b39c-431b-9a96-b2cac8cf4eec",
   "metadata": {},
   "source": [
    "We now want you to debug the car's failure to start by asking probabilistic queries.\n",
    "\n",
    "Let us say that the car is not starting, i.e. $s=\\text{No}$, **what is the probability that there is an issue with the battery?** That is we want to know $p(b \\mid s = \\text{No})$."
   ]
  },
  {
   "cell_type": "code",
   "execution_count": null,
   "id": "0bc42693-47c7-4459-a18d-540880013bf2",
   "metadata": {},
   "outputs": [],
   "source": [
    "inference = VariableElimination(car_model)\n",
    "\n",
    "#########################\n",
    "# Exercise: define query q that computes p(b | s = No),\n",
    "#           the evidence variable takes a dictionary of the form {\"variable\": \"state\",}\n",
    "#########################\n",
    "q = None\n",
    "#########################\n",
    "\n",
    "print(q)"
   ]
  },
  {
   "cell_type": "markdown",
   "id": "ed134ef8-4f1d-450e-a655-b72b35d3d9b0",
   "metadata": {},
   "source": [
    "Given our model, there is a significant chance that the battery is still good. \n",
    "\n",
    "So let's ask the model **what is the likely state of the fuel tank, given that the car did not start.**"
   ]
  },
  {
   "cell_type": "code",
   "execution_count": null,
   "id": "73d8f7b6-85ac-488e-8730-c1dce258dda0",
   "metadata": {},
   "outputs": [],
   "source": [
    "inference = VariableElimination(car_model)\n",
    "\n",
    "#########################\n",
    "# Exercise: define query q\n",
    "#########################\n",
    "q = None\n",
    "#########################\n",
    "\n",
    "print(q)"
   ]
  },
  {
   "cell_type": "markdown",
   "id": "36ec5b1b-d5bf-4436-84a0-997155f01064",
   "metadata": {},
   "source": [
    "Given our model, the chance that the fuel tank is empty and the car did not start is almost a coin toss. \n",
    "\n",
    "So next, we would also like to know which is more likely at fault: an empty fuel tank or a faulty battery (or, perhaps, both). **Query the model for the joint distribution $p(b, f \\mid s = \\text{No})$.**"
   ]
  },
  {
   "cell_type": "code",
   "execution_count": null,
   "id": "3bd61cc9-a4b8-4063-b7c4-6ee93eb2a1d2",
   "metadata": {},
   "outputs": [],
   "source": [
    "inference = VariableElimination(car_model)\n",
    "\n",
    "#########################\n",
    "# Exercise: define query q\n",
    "#########################\n",
    "q = None\n",
    "#########################\n",
    "\n",
    "print(q)"
   ]
  },
  {
   "cell_type": "markdown",
   "id": "8fcf9e35-21bb-4804-9176-4d650877b815",
   "metadata": {},
   "source": [
    "In the produced table, the MAP configuration is $b=\\text{Good}$ and $f=\\text{Empty}$, so we should fuel the car as a first attempt to remedy the situation.\n",
    "\n",
    "In the example above, we have asked you to compute the full conditional distribution of $p(b, f \\mid s = \\text{No})$ which we then used to read out the MAP configuration. But, if we were *only* interested in the MAP configuration, then we could use [`map_query()`](https://pgmpy.org/exact_infer/ve.html#pgmpy.inference.ExactInference.VariableElimination.map_query) method instead of the [`query()`](https://pgmpy.org/exact_infer/ve.html#pgmpy.inference.ExactInference.VariableElimination.query) method above to compute the MAP state more efficiently. **Query the model using [`map_query()`](https://pgmpy.org/exact_infer/ve.html#pgmpy.inference.ExactInference.VariableElimination.map_query) instead.**"
   ]
  },
  {
   "cell_type": "code",
   "execution_count": null,
   "id": "a3c8ce81-0bb7-4b75-af10-27fa9c501079",
   "metadata": {},
   "outputs": [],
   "source": [
    "inference = VariableElimination(car_model)\n",
    "\n",
    "#########################\n",
    "# Exercise: define query q\n",
    "#########################\n",
    "q = None\n",
    "#########################\n",
    "\n",
    "print(q)"
   ]
  },
  {
   "cell_type": "markdown",
   "id": "396f3865-413f-46d6-81be-ed3ba1368401",
   "metadata": {},
   "source": [
    "### Explaining Away"
   ]
  },
  {
   "cell_type": "markdown",
   "id": "c7740144-63a5-41fd-93c4-ad9007df7227",
   "metadata": {},
   "source": [
    "Moreover, it may seem surprising that, given $s=\\text{No}$, the second most probable configuration is $b=\\text{Good}, f=\\text{Not empty}$, i.e. the battery is OK and car is fueled up even though the car didn't start, whereas the probability that $b=\\text{Bad}, f=\\text{Empty}$ is less than 1%. This occurs for $𝑏=\\text{Good},𝑓=\\text{Not Empty}$ because there is a non-zero probability of 0.03 that $t=\\text{No}$ given that $b=\\text{Good}$ (perhaps there could be damp in the electrical circuit which affects turn-over), and if $t=\\text{No}$ then from the CPT $s=\\text{No}$ with probability 1.\n",
    "\n",
    "<!-- Although the probability that $t = \\text{No}$ is only 0.03 if $b = \\text{Good}$, the fact that $p(s = \\text{No} |t = \\text{No},f = \\text{Not Empty}) = 1.0$ means that there is significant mass in the posterior on $b = \\text{Good}, f = \\text{Not Empty}$. -->\n",
    "\n",
    "We therefore observe an example of \"explaining away\": setting either $b=\\text{Bad}$ or $f=\\text{Empty}$ sufficiently explains the car start failure. We can check by computing the corresponding CPTs, which will indicate that with high likelihood the other component is fine."
   ]
  },
  {
   "cell_type": "markdown",
   "id": "fcbc32fc-89ea-4e38-9492-e72949c0afe9",
   "metadata": {},
   "source": [
    "#### [Exercise] Verify the \"explaining away\" phenomenon"
   ]
  },
  {
   "cell_type": "markdown",
   "id": "0b9a9a9b-7840-46ef-b2fd-d39f27ee3204",
   "metadata": {},
   "source": [
    "Using a probabilistic query, verify the \"explaining away\" phenomenon. That is, **check that conditional on $s=\\text{No}$ and that either $b = \\text{Bad}$ OR $f = \\text{Empty}$, it is most likely that the remaining component (either $f$ or $b$) is NOT at fault.**\n",
    "\n",
    "First write the query for fuel tank:"
   ]
  },
  {
   "cell_type": "code",
   "execution_count": null,
   "id": "4191e2be-0070-423a-94d5-8be7006e1c6e",
   "metadata": {},
   "outputs": [],
   "source": [
    "inference = VariableElimination(car_model)\n",
    "\n",
    "#########################\n",
    "# Exercise: define query q\n",
    "#########################\n",
    "q = None\n",
    "#########################\n",
    "\n",
    "print(q)"
   ]
  },
  {
   "cell_type": "markdown",
   "id": "f260e271-cc3d-4fc1-a7bd-53f11e835629",
   "metadata": {},
   "source": [
    "Now write the query for battery:"
   ]
  },
  {
   "cell_type": "code",
   "execution_count": null,
   "id": "8c5a7ecc-4fc3-4be7-b873-99046a0cd4ba",
   "metadata": {},
   "outputs": [],
   "source": [
    "inference = VariableElimination(car_model)\n",
    "\n",
    "#########################\n",
    "# Exercise: define query q\n",
    "#########################\n",
    "q = None\n",
    "#########################\n",
    "\n",
    "print(q)"
   ]
  },
  {
   "cell_type": "markdown",
   "id": "0dc90f43-74d2-4b38-a6e3-fc7514158894",
   "metadata": {},
   "source": [
    "If the queries and the model is correct, then given $f=\\text{Empty}$ or $b=\\text{Bad}$ we should see that the remaining component of the car is most likely fine."
   ]
  },
  {
   "cell_type": "markdown",
   "id": "2adb88a7-c2f8-4625-b957-dbdd7c908842",
   "metadata": {},
   "source": [
    "## Extended model"
   ]
  },
  {
   "cell_type": "markdown",
   "id": "d1b4cd7c-fa02-46a7-a811-10af0bce60d5",
   "metadata": {},
   "source": [
    "Let us now consider an extended model, where we attempt to start the car up to three times before making conclusions about the state of the components.\n",
    "\n",
    "We show the model below, where each attempt to start the car has its own \"Turn Over\" and \"Start\" variables. We also assume that if the car has started in any of the previous attempts, then it will remain started in the following start attempts.\n",
    "\n",
    "![](./figures/heckerman-car-model-extended.png)"
   ]
  },
  {
   "cell_type": "markdown",
   "id": "cdc44ef9-7d91-4fd3-ace8-c5677a512412",
   "metadata": {},
   "source": [
    "We re-define the extended model variables and their states below, and load the pre-defined model."
   ]
  },
  {
   "cell_type": "code",
   "execution_count": null,
   "id": "b2376e8a-7b71-4d9f-aeb0-0dcbc2382d64",
   "metadata": {},
   "outputs": [],
   "source": [
    "variable_states_extended = {\n",
    "    \"Battery\":      [\"Bad\",     \"Good\"],\n",
    "    \"Fuel\":         [\"Empty\",   \"Not_empty\"],\n",
    "    \"Gauge\":        [\"Empty\",   \"Not_empty\"],\n",
    "    \"TurnOver1\":    [\"No\",      \"Yes\"],\n",
    "    \"TurnOver2\":    [\"No\",      \"Yes\"],\n",
    "    \"TurnOver3\":    [\"No\",      \"Yes\"],\n",
    "    \"Start1\":       [\"No\",      \"Yes\"],\n",
    "    \"Start2\":       [\"No\",      \"Yes\"],\n",
    "    \"Start3\":       [\"No\",      \"Yes\"],\n",
    "}\n",
    "variables_extended = list(variable_states_extended.keys())\n",
    "cardinalities_extended = [len(s) for v, s in variable_states_extended.items()]\n",
    "\n",
    "car_model_extended = BayesianNetwork.load('./heckermans-car-extended-BayesNet.bif')"
   ]
  },
  {
   "cell_type": "markdown",
   "id": "35e1fb7f-9fdf-40f9-8b76-a2a4c1e72077",
   "metadata": {},
   "source": [
    "We now visualise the BN using `plot_graph()` and verify that its DAG corresponds to that of the extended model above. "
   ]
  },
  {
   "cell_type": "code",
   "execution_count": null,
   "id": "3c67bef5-a736-4417-94a0-03d9a1c2e81a",
   "metadata": {},
   "outputs": [],
   "source": [
    "plot_graph(car_model_extended)"
   ]
  },
  {
   "cell_type": "markdown",
   "id": "08cfe396-ee66-432e-b954-a52d7cfa8dad",
   "metadata": {},
   "source": [
    "Check the validity of the model:"
   ]
  },
  {
   "cell_type": "code",
   "execution_count": null,
   "id": "2e30ee66-a7e7-4006-bf2d-9dce96a9b909",
   "metadata": {},
   "outputs": [],
   "source": [
    "# Checking if the cpts are valid for the model.\n",
    "car_model_extended.check_model()"
   ]
  },
  {
   "cell_type": "markdown",
   "id": "cb368be7-f05e-49e2-95e4-a8a256f6a7a3",
   "metadata": {},
   "source": [
    "If the model is valid (i.e. probabilities sum to 1), then the above will print `True`."
   ]
  },
  {
   "cell_type": "markdown",
   "id": "75bd8a10-1da7-4feb-a7e6-c75a677a26cc",
   "metadata": {},
   "source": [
    "Note, while specifying the distribution using a single JPT would require $K^D-1 = 2^9-1 = 511$ parameters, our BN can be specifed using only 32 parameters:"
   ]
  },
  {
   "cell_type": "code",
   "execution_count": null,
   "id": "7f26801a-fec7-4ed3-9fc9-a80e4dfebeb3",
   "metadata": {},
   "outputs": [],
   "source": [
    "get_num_necessary_parameters(car_model_extended)"
   ]
  },
  {
   "cell_type": "markdown",
   "id": "e557d913-e676-4502-bbb3-04b0b2b837b4",
   "metadata": {},
   "source": [
    "This highlights the importance of independence assumptions in model specification."
   ]
  },
  {
   "cell_type": "markdown",
   "id": "65926fd3-88c4-4610-b51c-9018fae41cf2",
   "metadata": {},
   "source": [
    "### [Exercise] Debug the car's failure to start using the extended BN model"
   ]
  },
  {
   "cell_type": "markdown",
   "id": "96617d48-b42c-4817-81e4-99e967a48fba",
   "metadata": {},
   "source": [
    "Let us first verify that the inferences on the extended BN model remain the same as on the original. **Write a query that computes the distribution $p(b, f \\mid s1=\\text{No})$.**"
   ]
  },
  {
   "cell_type": "code",
   "execution_count": null,
   "id": "b0ad0c69-2f62-4b9e-8963-a137ff17b21b",
   "metadata": {},
   "outputs": [],
   "source": [
    "inference = VariableElimination(car_model_extended)\n",
    "\n",
    "#########################\n",
    "# Exercise: define query q that computes p(b, f| s1 = No)\n",
    "#########################\n",
    "q = None\n",
    "#########################\n",
    "\n",
    "print(q)"
   ]
  },
  {
   "cell_type": "markdown",
   "id": "4fdc0a4b-4d22-44a2-b00f-3ca01c6b4f10",
   "metadata": {},
   "source": [
    "The computed CPT should be the same as on the original BN model, since the additional variables $t2, s2$ and $t3, s3$ can be marginalised out."
   ]
  },
  {
   "cell_type": "markdown",
   "id": "bfb9c415-aee0-46a6-8b5a-a84f7b9b2bed",
   "metadata": {},
   "source": [
    "Now, consider the case where the car didn't start on the first turn but started on the second (i.e. $s1=\\text{No}, s2=\\text{Yes}$). **How likely is there anything wrong with the car?** (HINT: compute $p(b, f \\mid s1=\\text{No}, s2=\\text{Yes})$)"
   ]
  },
  {
   "cell_type": "code",
   "execution_count": null,
   "id": "28ce0322-e6a2-494d-bf6b-8b73f46fc4e4",
   "metadata": {},
   "outputs": [],
   "source": [
    "inference = VariableElimination(car_model_extended)\n",
    "\n",
    "#########################\n",
    "# Exercise: define query q that computes p(b, f | s1 = No, s2 = Yes)\n",
    "#########################\n",
    "q = None\n",
    "#########################\n",
    "\n",
    "print(q)"
   ]
  },
  {
   "cell_type": "markdown",
   "id": "4fe2ac93-acc5-44da-b5e4-dd966ffce43c",
   "metadata": {},
   "source": [
    "The posterior probability $p(b=\\text{Good}, f=\\text{Not empty} \\mid s1 = \\text{No}, s2 = \\text{Yes})$ should be high (over 0.9). Whereas the previous MAP configuration $b=\\text{Good}, f=\\text{Empty}$ should be in the second place with a probability less than 0.1. Hence, if the true configuration is $b=\\text{Good}, f=\\text{Not empty}$, then the failure to start on the first attempt was likely due to the non-zero probability for $t1=\\text{No}$ given $b = \\text{Good}$, which means that the failure to turn-over caused the car not to start."
   ]
  },
  {
   "cell_type": "markdown",
   "id": "438de8b6-5680-4603-9739-6f68680914d0",
   "metadata": {},
   "source": [
    "Next, assume that the car did not start until the last turn (i.e. $s1=\\text{No}, s2=\\text{No}, s3=\\text{Yes}$). **Compute the joint probability $p(b, f \\mid s1=\\text{No}, s2=\\text{No}, s3=\\text{Yes})$.**"
   ]
  },
  {
   "cell_type": "code",
   "execution_count": null,
   "id": "c47226ba-7870-4198-948c-123ef59cef12",
   "metadata": {},
   "outputs": [],
   "source": [
    "inference = VariableElimination(car_model_extended)\n",
    "\n",
    "#########################\n",
    "# Exercise: define query q that computes p(b, f | s1 = No, s2 = No, s3 = Yes)\n",
    "#########################\n",
    "q = None\n",
    "#########################\n",
    "\n",
    "print(q)"
   ]
  },
  {
   "cell_type": "markdown",
   "id": "9f14224e-eba4-444b-b68b-e0cb56057ffc",
   "metadata": {},
   "source": [
    "We now observe that the MAP configuration is $b=\\text{Good}, f=\\text{Empty}$ with a probability of over 0.6, whereas the previous MAP configuration $b=\\text{Good}, f=\\text{Not Empty}$ has now the probability of less than 0.3 (compared to the previous >0.9). The failure to start twice before a success is therefore leading us to the view that $f=\\text{Empty}$ is the most likely explanation. Moreover, the probability of $b=\\text{Bad}, f=\\text{Not Empty}$ has also increased significantly from less than 0.01 to greater than 0.07, showing that an increased number of failures to start before a success also increases our belief that the battery may be bad."
   ]
  },
  {
   "cell_type": "markdown",
   "id": "1d59f0b9-0386-40bf-b626-a47c486d7aec",
   "metadata": {},
   "source": [
    "Finally, assume that the car did not start on any of the three attempts (i.e. $s1=\\text{No}, s2=\\text{No}, s3=\\text{No}$). **Compute the joint probability $p(b, f \\mid s1=\\text{No}, s2=\\text{No}, s3=\\text{No})$**."
   ]
  },
  {
   "cell_type": "code",
   "execution_count": null,
   "id": "b3cf0667-1341-4935-ada2-cabcc9f7e5fe",
   "metadata": {},
   "outputs": [],
   "source": [
    "inference = VariableElimination(car_model_extended)\n",
    "\n",
    "#########################\n",
    "# Exercise: define query q that computes p(b, f | s1 = No, s2 = No, s3 = No)\n",
    "#########################\n",
    "q = None\n",
    "#########################\n",
    "\n",
    "print(q)"
   ]
  },
  {
   "cell_type": "markdown",
   "id": "93e74cda-57ee-423a-bdfc-71bb3e6a56a6",
   "metadata": {},
   "source": [
    "So the MAP configuration is at $b=\\text{Good}, f=\\text{Empty}$, meaning that the fuel tank might be empty. And, the second-most likely configuration is now $b=\\text{Bad}, f=\\text{Not empty}$ (instead of $b=\\text{Good}, f=\\text{Not empty}$ on the original car model), which indicates that it is very likely that one of the components (either the battery or the fuel tank) is at fault.\n",
    "\n",
    "The extended model therefore shows that gathering more evidence can help us identify issues with the car more accurately. "
   ]
  },
  {
   "cell_type": "code",
   "execution_count": null,
   "id": "2c491e5b-7e15-423c-8f3d-ef92c66e9ea0",
   "metadata": {},
   "outputs": [],
   "source": []
  },
  {
   "cell_type": "markdown",
   "id": "d891723e-8084-45d3-9a5f-7dceff01a3bf",
   "metadata": {},
   "source": [
    "## (Optional) Convert to the original BN to Markov Network and compare independencies\n",
    "\n",
    "This sub-section is **optional** and part of the material (e.g. [\"moralisation\"](https://en.wikipedia.org/wiki/Moral_graph)) needed to understand it is covered in Tutorial 3. "
   ]
  },
  {
   "cell_type": "markdown",
   "id": "9d922d45-3f34-48c3-a765-3354c36dde64",
   "metadata": {},
   "source": [
    "In the lectures we have also learnt about undirected models (or Markov networks, MNs), but BNs and MNs are not always capable of encoding the same conditional independencies. \n",
    "\n",
    "Let us convert the _original_ BN car model into an MN using `to_markov_model()` method and visualise it using `plot_graph()`:"
   ]
  },
  {
   "cell_type": "code",
   "execution_count": null,
   "id": "4ab08913-439c-4b21-9f8c-ca8b10221d60",
   "metadata": {},
   "outputs": [],
   "source": [
    "car_model_mn = car_model.to_markov_model()\n",
    "plot_graph(car_model_mn)"
   ]
  },
  {
   "cell_type": "markdown",
   "id": "e6e35355-8715-4b17-ba44-f814cefdea2e",
   "metadata": {},
   "source": [
    "We can see that the BN->MN conversion required \"moralisation\" of the DAG, which introduced additional edges (see Tutorial 3). **Identify the edges introduced due to \"moralisation\" and try to understand *why* they got introduced.**"
   ]
  },
  {
   "cell_type": "markdown",
   "id": "21028b8f-a715-4a1d-b4b6-9d4f0090d174",
   "metadata": {},
   "source": [
    "Because of the moralisation, the resulting MN may not contain all independencies of the original BN. To show this, we convert it back to a BN (which is a minimal I-map of the MN) and list the independencies. \n",
    "\n",
    "*(Note that the `MarkovNetwork` class in the `pgmpy` package does not have a `get_independencies()` method, so we cannot compare the list of independencies directly. But importantly, a BN->MN conversion preserves as many independencies as can possibly be represented by a MN (without introducing any new independencies), and similarly MN->BN conversion preserves as many independencies as can possibly be represented by a BN. Hence, a BN->MN->BN conversion can be used to show the independencies lost due to the conversion to a MN.)*"
   ]
  },
  {
   "cell_type": "code",
   "execution_count": null,
   "id": "113c9fda-cd2f-44dd-8da0-757d7de39952",
   "metadata": {},
   "outputs": [],
   "source": [
    "# Convert BN->MN->BN and check independencies\n",
    "car_model_mn.to_bayesian_model().get_independencies()"
   ]
  },
  {
   "cell_type": "markdown",
   "id": "33dfe914-f5dc-44a9-ba9a-5e2f6be6725a",
   "metadata": {},
   "source": [
    "Clearly, the independence list is reduced because a MN model is not capable of representing some independencies of our BN model. "
   ]
  },
  {
   "cell_type": "markdown",
   "id": "5901028a-8329-4940-95e1-7305bf6d7a0f",
   "metadata": {},
   "source": [
    "Finally, we can also visualise the remaining DAG using `plot_graph()`:\n",
    "\n",
    "(Note that there is a one-to-many relationship between unnormalised graphs (MNs) and DAGs (BNs), i.e. many different BNs may encode the same independencies as the MN. So the below line might produce a different graph on different runs of the notebook.)"
   ]
  },
  {
   "cell_type": "code",
   "execution_count": null,
   "id": "371879bc-3454-42f8-8528-6f8363a0e87a",
   "metadata": {},
   "outputs": [],
   "source": [
    "plot_graph(car_model_mn.to_bayesian_model())"
   ]
  },
  {
   "cell_type": "code",
   "execution_count": null,
   "id": "c6e44f3e-e116-47b9-bb1e-5167be293bdc",
   "metadata": {},
   "outputs": [],
   "source": []
  }
 ],
 "metadata": {
  "kernelspec": {
   "display_name": "Python 3 (ipykernel)",
   "language": "python",
   "name": "python3"
  },
  "language_info": {
   "codemirror_mode": {
    "name": "ipython",
    "version": 3
   },
   "file_extension": ".py",
   "mimetype": "text/x-python",
   "name": "python",
   "nbconvert_exporter": "python",
   "pygments_lexer": "ipython3",
   "version": "3.10.13"
  }
 },
 "nbformat": 4,
 "nbformat_minor": 5
}
